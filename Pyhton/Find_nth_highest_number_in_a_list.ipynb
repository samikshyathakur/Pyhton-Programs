{
  "nbformat": 4,
  "nbformat_minor": 0,
  "metadata": {
    "colab": {
      "name": "Find nth highest number in a list",
      "provenance": [],
      "authorship_tag": "ABX9TyPnoWqKmUlq9axuM88Bk0qy",
      "include_colab_link": true
    },
    "kernelspec": {
      "name": "python3",
      "display_name": "Python 3"
    },
    "language_info": {
      "name": "python"
    }
  },
  "cells": [
    {
      "cell_type": "markdown",
      "metadata": {
        "id": "view-in-github",
        "colab_type": "text"
      },
      "source": [
        "<a href=\"https://colab.research.google.com/github/samikshyathakur/nth-highest-element/blob/main/Pyhton/Find_nth_highest_number_in_a_list.ipynb\" target=\"_parent\"><img src=\"https://colab.research.google.com/assets/colab-badge.svg\" alt=\"Open In Colab\"/></a>"
      ]
    },
    {
      "cell_type": "code",
      "execution_count": null,
      "metadata": {
        "colab": {
          "base_uri": "https://localhost:8080/"
        },
        "id": "9q6k1VIkFAg3",
        "outputId": "f8f5a26b-96bd-4141-ac82-46d0fff45c34"
      },
      "outputs": [
        {
          "output_type": "stream",
          "name": "stdout",
          "text": [
            "77\n"
          ]
        }
      ],
      "source": [
        "def findhigh(list, n):\n",
        "  highest_list = []\n",
        "  for i in range(n):\n",
        "    high = 0\n",
        "    for j in list:\n",
        "      if j > high:\n",
        "        high = j\n",
        "    highest_list.append(j)\n",
        "    list.remove(j)\n",
        "  return highest_list[n-1] \n",
        "\n",
        "def main():\n",
        "  list = [2,5,8,45,77,98]\n",
        "  result = findhigh(list, 2)\n",
        "  print(result)\n",
        "\n",
        "main()         "
      ]
    }
  ]
}