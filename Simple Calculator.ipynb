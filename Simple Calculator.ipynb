{
 "cells": [
  {
   "cell_type": "code",
   "execution_count": 1,
   "id": "0032489a",
   "metadata": {},
   "outputs": [
    {
     "name": "stdout",
     "output_type": "stream",
     "text": [
      "Please select the operation.\n",
      "a. Add\n",
      "b. Subtract\n",
      "c. Multiply\n",
      "d. Divide\n",
      "Please enter choice (a/b/c/d): a\n",
      "Please enter the first number: 20\n",
      "Please enter the second number: 30\n",
      "20  +  30  =  50\n"
     ]
    }
   ],
   "source": [
    "def add(x, y):\n",
    "    return x + y\n",
    "\n",
    "def subtract(x, y):\n",
    "    return x - y\n",
    "\n",
    "def multiply(x, y):\n",
    "    return x * y\n",
    "\n",
    "def divide(x, y):\n",
    "    return x / y\n",
    "\n",
    "print(\"Please select the operation.\")\n",
    "print(\"a. Add\")\n",
    "print(\"b. Subtract\")\n",
    "print(\"c. Multiply\")\n",
    "print(\"d. Divide\")\n",
    "\n",
    "choice = input(\"Please enter choice (a/b/c/d): \")\n",
    "\n",
    "num_1 = int(input (\"Please enter the first number: \"))    \n",
    "num_2 = int(input (\"Please enter the second number: \"))\n",
    "\n",
    "if choice == 'a':\n",
    "    print(num_1, \" + \", num_2, \" = \", add(num_1, num_2))    \n",
    "elif choice == 'b':    \n",
    "    print(num_1, \" - \", num_2, \" = \", subtract(num_1, num_2))     \n",
    "elif choice == 'c':    \n",
    "    print(num1, \" * \", num2, \" = \", multiply(num1, num2)) \n",
    "elif choice == 'd':    \n",
    "    print(num_1, \" / \", num_2, \" = \", divide(num_1, num_2))    \n",
    "else:    \n",
    "    print(\"This is an invalid input\")  "
   ]
  },
  {
   "cell_type": "code",
   "execution_count": null,
   "id": "25c02709",
   "metadata": {},
   "outputs": [],
   "source": []
  }
 ],
 "metadata": {
  "kernelspec": {
   "display_name": "Python 3",
   "language": "python",
   "name": "python3"
  },
  "language_info": {
   "codemirror_mode": {
    "name": "ipython",
    "version": 3
   },
   "file_extension": ".py",
   "mimetype": "text/x-python",
   "name": "python",
   "nbconvert_exporter": "python",
   "pygments_lexer": "ipython3",
   "version": "3.8.8"
  }
 },
 "nbformat": 4,
 "nbformat_minor": 5
}
