{
 "cells": [
  {
   "cell_type": "code",
   "execution_count": 1,
   "id": "2c81de74",
   "metadata": {},
   "outputs": [
    {
     "name": "stdout",
     "output_type": "stream",
     "text": [
      "List after swapping [85, 45, 60, 70, 20]\n"
     ]
    }
   ],
   "source": [
    "#Approach 1: Using Temporary Variable\n",
    "\n",
    "my_list = [20,45,60,70,85]\n",
    "size = len(my_list)\n",
    "\n",
    "temp = my_list[0]\n",
    "my_list[0] = my_list[size-1]\n",
    "my_list[size-1] = temp\n",
    "\n",
    "print(\"List after swapping\",my_list)"
   ]
  },
  {
   "cell_type": "code",
   "execution_count": 2,
   "id": "9c370eb2",
   "metadata": {},
   "outputs": [
    {
     "name": "stdout",
     "output_type": "stream",
     "text": [
      "List after swapping [85, 45, 60, 70, 20]\n"
     ]
    }
   ],
   "source": [
    "#Approach 2: Without using Temporary Variable\n",
    "\n",
    "my_list = [20,45,60,70,85]\n",
    "\n",
    "my_list[0], my_list[-1] = my_list[-1], my_list[0]\n",
    "\n",
    "print(\"List after swapping\",my_list)"
   ]
  },
  {
   "cell_type": "code",
   "execution_count": 3,
   "id": "10b9616b",
   "metadata": {},
   "outputs": [
    {
     "name": "stdout",
     "output_type": "stream",
     "text": [
      "List after swapping [85, 45, 60, 70, 20]\n"
     ]
    }
   ],
   "source": [
    "#Approach 3: Using Tuple Variable\n",
    "\n",
    "my_list = [20,45,60,70,85]\n",
    "\n",
    "get=(my_list[-1], my_list[0])  #Packing\n",
    "\n",
    "my_list[0], my_list[-1] = get  #Unpacking\n",
    "\n",
    "print(\"List after swapping\",my_list)"
   ]
  },
  {
   "cell_type": "code",
   "execution_count": 5,
   "id": "cbca7676",
   "metadata": {},
   "outputs": [
    {
     "name": "stdout",
     "output_type": "stream",
     "text": [
      "List after swapping [85, 45, 60, 70, 20]\n"
     ]
    }
   ],
   "source": [
    "#Approach 4: Using * operand\n",
    "\n",
    "my_list = [20,45,60,70,85]\n",
    "\n",
    "start, *middle, end = my_list\n",
    "\n",
    "# print(start)\n",
    "# print(middle)\n",
    "# print(end)\n",
    "\n",
    "my_list = [end, *middle, start]\n",
    "\n",
    "print(\"List after swapping\",my_list)"
   ]
  },
  {
   "cell_type": "code",
   "execution_count": 7,
   "id": "5073b906",
   "metadata": {},
   "outputs": [
    {
     "name": "stdout",
     "output_type": "stream",
     "text": [
      "List after swapping [85, 45, 60, 70, 20]\n"
     ]
    }
   ],
   "source": [
    "# Approach 5: Using pop() function\n",
    "\n",
    "my_list = [20,45,60,70,85]\n",
    "\n",
    "first = my_list.pop(0)\n",
    "last = my_list.pop(-1)\n",
    "\n",
    "my_list.insert(0, last)\n",
    "my_list.append(first)\n",
    "\n",
    "print(\"List after swapping\",my_list)"
   ]
  },
  {
   "cell_type": "code",
   "execution_count": null,
   "id": "8099001f",
   "metadata": {},
   "outputs": [],
   "source": []
  }
 ],
 "metadata": {
  "kernelspec": {
   "display_name": "Python 3",
   "language": "python",
   "name": "python3"
  },
  "language_info": {
   "codemirror_mode": {
    "name": "ipython",
    "version": 3
   },
   "file_extension": ".py",
   "mimetype": "text/x-python",
   "name": "python",
   "nbconvert_exporter": "python",
   "pygments_lexer": "ipython3",
   "version": "3.8.8"
  }
 },
 "nbformat": 4,
 "nbformat_minor": 5
}
