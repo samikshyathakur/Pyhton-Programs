{
 "cells": [
  {
   "cell_type": "code",
   "execution_count": 2,
   "id": "c209055b",
   "metadata": {},
   "outputs": [
    {
     "name": "stdout",
     "output_type": "stream",
     "text": [
      "[4, 10, 20, 45, 99]\n",
      "Largest number is: 99\n",
      "Second largest number is: 45\n"
     ]
    }
   ],
   "source": [
    "#Approach 1:\n",
    "\n",
    "my_list = [10,20,4,45,99]\n",
    "my_list.sort()\n",
    "print(my_list)\n",
    "\n",
    "print(\"Largest number is:\",my_list[-1])\n",
    "print(\"Second largest number is:\",my_list[-2])"
   ]
  },
  {
   "cell_type": "code",
   "execution_count": 4,
   "id": "6628fb5d",
   "metadata": {},
   "outputs": [
    {
     "name": "stdout",
     "output_type": "stream",
     "text": [
      "{4, 10, 45, 20}\n",
      "45\n"
     ]
    }
   ],
   "source": [
    "#Approach 2:\n",
    "\n",
    "my_list = [10,20,4,45,99]\n",
    "new_list = set(my_list)\n",
    "\n",
    "new_list.remove(max(new_list))\n",
    "print(new_list)\n",
    "print(max(new_list))"
   ]
  },
  {
   "cell_type": "code",
   "execution_count": null,
   "id": "50d4594a",
   "metadata": {},
   "outputs": [],
   "source": []
  }
 ],
 "metadata": {
  "kernelspec": {
   "display_name": "Python 3",
   "language": "python",
   "name": "python3"
  },
  "language_info": {
   "codemirror_mode": {
    "name": "ipython",
    "version": 3
   },
   "file_extension": ".py",
   "mimetype": "text/x-python",
   "name": "python",
   "nbconvert_exporter": "python",
   "pygments_lexer": "ipython3",
   "version": "3.8.8"
  }
 },
 "nbformat": 4,
 "nbformat_minor": 5
}
