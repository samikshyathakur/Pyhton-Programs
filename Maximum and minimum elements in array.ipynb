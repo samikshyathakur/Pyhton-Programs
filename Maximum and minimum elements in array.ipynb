{
 "cells": [
  {
   "cell_type": "code",
   "execution_count": 3,
   "id": "36f8fe2e",
   "metadata": {},
   "outputs": [
    {
     "name": "stdout",
     "output_type": "stream",
     "text": [
      "50\n"
     ]
    }
   ],
   "source": [
    "# find maximum element\n",
    "arr = [1,25,30,4,50]\n",
    "\n",
    "max = arr[0]\n",
    "n = len(arr)\n",
    "\n",
    "for i in range(1,n):\n",
    "    if arr[i] > max:\n",
    "        max = arr[i]\n",
    "        \n",
    "print(max)        "
   ]
  },
  {
   "cell_type": "code",
   "execution_count": 4,
   "id": "1447a13d",
   "metadata": {},
   "outputs": [
    {
     "name": "stdout",
     "output_type": "stream",
     "text": [
      "1\n"
     ]
    }
   ],
   "source": [
    "# find minimum element\n",
    "arr = [1,25,30,4,50]\n",
    "min = arr[0]\n",
    "n = len(arr)\n",
    "\n",
    "for i in range(1,n):\n",
    "    if arr[i] < min:\n",
    "        min = arr[i]\n",
    "        \n",
    "print(min)        "
   ]
  },
  {
   "cell_type": "code",
   "execution_count": null,
   "id": "09b91e90",
   "metadata": {},
   "outputs": [],
   "source": []
  }
 ],
 "metadata": {
  "kernelspec": {
   "display_name": "Python 3",
   "language": "python",
   "name": "python3"
  },
  "language_info": {
   "codemirror_mode": {
    "name": "ipython",
    "version": 3
   },
   "file_extension": ".py",
   "mimetype": "text/x-python",
   "name": "python",
   "nbconvert_exporter": "python",
   "pygments_lexer": "ipython3",
   "version": "3.8.8"
  }
 },
 "nbformat": 4,
 "nbformat_minor": 5
}
