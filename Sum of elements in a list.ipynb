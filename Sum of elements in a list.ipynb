{
 "cells": [
  {
   "cell_type": "code",
   "execution_count": 1,
   "id": "b53f7a28",
   "metadata": {},
   "outputs": [
    {
     "name": "stdout",
     "output_type": "stream",
     "text": [
      "Sum of all elements in the given list: 50\n"
     ]
    }
   ],
   "source": [
    "#Approach 1: Using for loop with range() function\n",
    "\n",
    "my_list = [5,10,15,20]\n",
    "total = 0\n",
    "\n",
    "for i in range(0, len(my_list)):\n",
    "    total = total + my_list[i]\n",
    "\n",
    "print(\"Sum of all elements in the given list:\",total)"
   ]
  },
  {
   "cell_type": "code",
   "execution_count": 2,
   "id": "5ddb7299",
   "metadata": {},
   "outputs": [
    {
     "name": "stdout",
     "output_type": "stream",
     "text": [
      "Sum of all elements in the given list: 50\n"
     ]
    }
   ],
   "source": [
    "#Approach 2: Using sum() method\n",
    "\n",
    "my_list = [5,10,15,20]\n",
    "total = sum(my_list)\n",
    "print(\"Sum of all elements in the given list:\",total)"
   ]
  },
  {
   "cell_type": "code",
   "execution_count": null,
   "id": "1eb7d842",
   "metadata": {},
   "outputs": [],
   "source": []
  }
 ],
 "metadata": {
  "kernelspec": {
   "display_name": "Python 3",
   "language": "python",
   "name": "python3"
  },
  "language_info": {
   "codemirror_mode": {
    "name": "ipython",
    "version": 3
   },
   "file_extension": ".py",
   "mimetype": "text/x-python",
   "name": "python",
   "nbconvert_exporter": "python",
   "pygments_lexer": "ipython3",
   "version": "3.8.8"
  }
 },
 "nbformat": 4,
 "nbformat_minor": 5
}
