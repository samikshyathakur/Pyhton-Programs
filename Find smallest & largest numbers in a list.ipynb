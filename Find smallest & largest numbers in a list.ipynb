{
 "cells": [
  {
   "cell_type": "code",
   "execution_count": 1,
   "id": "3181e95b",
   "metadata": {},
   "outputs": [
    {
     "name": "stdout",
     "output_type": "stream",
     "text": [
      "[1, 10, 20, 20, 100]\n",
      "Smallest element is: 1\n",
      "Largest element is: 100\n"
     ]
    }
   ],
   "source": [
    "#Approach 1: Sort the list in ascending order and print the first and last element in the list\n",
    "\n",
    "my_list = [20,100,20,1,10]\n",
    "my_list.sort() \n",
    "print(my_list)\n",
    "\n",
    "print(\"Smallest element is:\",my_list[0])\n",
    "print(\"Largest element is:\",my_list[-1])"
   ]
  },
  {
   "cell_type": "code",
   "execution_count": 2,
   "id": "c277179e",
   "metadata": {},
   "outputs": [
    {
     "name": "stdout",
     "output_type": "stream",
     "text": [
      "Smallest element is: 1\n",
      "Largest element is: 100\n"
     ]
    }
   ],
   "source": [
    "#Approach 2: Using min() and max() methods\n",
    "\n",
    "my_list = [20,100,20,1,10]\n",
    "print(\"Smallest element is:\",min(my_list))\n",
    "print(\"Largest element is:\",max(my_list))"
   ]
  },
  {
   "cell_type": "code",
   "execution_count": null,
   "id": "578464c6",
   "metadata": {},
   "outputs": [],
   "source": []
  }
 ],
 "metadata": {
  "kernelspec": {
   "display_name": "Python 3",
   "language": "python",
   "name": "python3"
  },
  "language_info": {
   "codemirror_mode": {
    "name": "ipython",
    "version": 3
   },
   "file_extension": ".py",
   "mimetype": "text/x-python",
   "name": "python",
   "nbconvert_exporter": "python",
   "pygments_lexer": "ipython3",
   "version": "3.8.8"
  }
 },
 "nbformat": 4,
 "nbformat_minor": 5
}
