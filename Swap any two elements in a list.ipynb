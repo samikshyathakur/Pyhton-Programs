{
 "cells": [
  {
   "cell_type": "code",
   "execution_count": 1,
   "id": "beacb914",
   "metadata": {},
   "outputs": [
    {
     "name": "stdout",
     "output_type": "stream",
     "text": [
      "List before swapping: [23, 65, 19, 90]\n",
      "List after swapping: [23, 90, 19, 65]\n"
     ]
    }
   ],
   "source": [
    "#Approach 1: Simple Swap\n",
    "\n",
    "my_list = [23,65,19,90]\n",
    "\n",
    "print(\"List before swapping:\",my_list)\n",
    "\n",
    "pos1, pos2 = 1, 3\n",
    "\n",
    "my_list[pos1], my_list[pos2] = my_list[pos2], my_list[pos1]\n",
    "\n",
    "print(\"List after swapping:\",my_list)"
   ]
  },
  {
   "cell_type": "code",
   "execution_count": 2,
   "id": "f15954fb",
   "metadata": {},
   "outputs": [
    {
     "name": "stdout",
     "output_type": "stream",
     "text": [
      "List before swapping: [23, 65, 19, 90]\n",
      "List after swapping: [23, 90, 19, 65]\n"
     ]
    }
   ],
   "source": [
    "#Approach 2: Using pop() function\n",
    "\n",
    "my_list = [23,65,19,90]\n",
    "\n",
    "print(\"List before swapping:\",my_list)\n",
    "\n",
    "pos1, pos2 = 1, 3\n",
    "\n",
    "first_ele = my_list.pop(pos1)\n",
    "second_ele = my_list.pop(pos2-1)\n",
    "\n",
    "my_list.insert(pos1,second_ele)\n",
    "my_list.insert(pos2,first_ele)\n",
    "\n",
    "print(\"List after swapping:\",my_list)"
   ]
  },
  {
   "cell_type": "code",
   "execution_count": 3,
   "id": "95e73440",
   "metadata": {},
   "outputs": [
    {
     "name": "stdout",
     "output_type": "stream",
     "text": [
      "List before swapping: [23, 65, 19, 90]\n",
      "List after swapping: [23, 90, 19, 65]\n"
     ]
    }
   ],
   "source": [
    "# Approach 3: Using Tuple Variable\n",
    "\n",
    "my_list = [23,65,19,90]\n",
    "\n",
    "print(\"List before swapping:\",my_list)\n",
    "\n",
    "pos1, pos2 = 1, 3\n",
    "\n",
    "get = (my_list[pos1], my_list[pos2])\n",
    "my_list[pos2], my_list[pos1] = get\n",
    "\n",
    "print(\"List after swapping:\",my_list)"
   ]
  },
  {
   "cell_type": "code",
   "execution_count": null,
   "id": "e2547c2b",
   "metadata": {},
   "outputs": [],
   "source": []
  }
 ],
 "metadata": {
  "kernelspec": {
   "display_name": "Python 3",
   "language": "python",
   "name": "python3"
  },
  "language_info": {
   "codemirror_mode": {
    "name": "ipython",
    "version": 3
   },
   "file_extension": ".py",
   "mimetype": "text/x-python",
   "name": "python",
   "nbconvert_exporter": "python",
   "pygments_lexer": "ipython3",
   "version": "3.8.8"
  }
 },
 "nbformat": 4,
 "nbformat_minor": 5
}
