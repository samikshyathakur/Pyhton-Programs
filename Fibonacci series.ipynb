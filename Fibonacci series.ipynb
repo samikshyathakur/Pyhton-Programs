{
 "cells": [
  {
   "cell_type": "code",
   "execution_count": 5,
   "id": "78ab725c",
   "metadata": {},
   "outputs": [
    {
     "name": "stdout",
     "output_type": "stream",
     "text": [
      "0\n",
      "1\n",
      "1\n",
      "2\n",
      "3\n",
      "5\n",
      "8\n",
      "13\n",
      "21\n",
      "34\n"
     ]
    }
   ],
   "source": [
    "n1 = 0\n",
    "n2 = 1\n",
    "\n",
    "print(n1)\n",
    "print(n2)\n",
    "\n",
    "for i in range(2, 10):\n",
    "    sum = n1 + n2\n",
    "    print(sum)\n",
    "    n1 = n2\n",
    "    n2 = sum"
   ]
  },
  {
   "cell_type": "code",
   "execution_count": null,
   "id": "9aad92ee",
   "metadata": {},
   "outputs": [],
   "source": []
  }
 ],
 "metadata": {
  "kernelspec": {
   "display_name": "Python 3",
   "language": "python",
   "name": "python3"
  },
  "language_info": {
   "codemirror_mode": {
    "name": "ipython",
    "version": 3
   },
   "file_extension": ".py",
   "mimetype": "text/x-python",
   "name": "python",
   "nbconvert_exporter": "python",
   "pygments_lexer": "ipython3",
   "version": "3.8.8"
  }
 },
 "nbformat": 4,
 "nbformat_minor": 5
}
