{
 "cells": [
  {
   "cell_type": "code",
   "execution_count": 1,
   "id": "5d4ee552",
   "metadata": {},
   "outputs": [
    {
     "name": "stdout",
     "output_type": "stream",
     "text": [
      "Enter the year: 2020\n",
      "It is a Leap Year.\n"
     ]
    }
   ],
   "source": [
    "def leap_year(year):\n",
    "    if ((year % 400 == 0) or (year % 100 != 0) and (year % 4 == 0)):\n",
    "        print(\"It is a Leap Year.\")\n",
    "    else:\n",
    "        print(\"It is not a Leap Year\")\n",
    "        \n",
    "year = int(input(\"Enter the year: \"))\n",
    "\n",
    "leap_year(year)"
   ]
  },
  {
   "cell_type": "code",
   "execution_count": null,
   "id": "43077afd",
   "metadata": {},
   "outputs": [],
   "source": []
  }
 ],
 "metadata": {
  "kernelspec": {
   "display_name": "Python 3",
   "language": "python",
   "name": "python3"
  },
  "language_info": {
   "codemirror_mode": {
    "name": "ipython",
    "version": 3
   },
   "file_extension": ".py",
   "mimetype": "text/x-python",
   "name": "python",
   "nbconvert_exporter": "python",
   "pygments_lexer": "ipython3",
   "version": "3.8.8"
  }
 },
 "nbformat": 4,
 "nbformat_minor": 5
}
