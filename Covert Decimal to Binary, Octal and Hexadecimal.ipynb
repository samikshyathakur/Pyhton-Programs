{
 "cells": [
  {
   "cell_type": "code",
   "execution_count": 1,
   "id": "41877daa",
   "metadata": {},
   "outputs": [
    {
     "name": "stdout",
     "output_type": "stream",
     "text": [
      "Enter the Decimal Number: 15\n",
      "The given decimal number 15 in Binary number is:  0b1111\n",
      "The given decimal number 15 in Octal number is:  0o17\n",
      "The given decimal number 15  in Hexadecimal number is:  0xf\n"
     ]
    }
   ],
   "source": [
    "#Decimal to Binary\n",
    "def decimal_to_binary(decimal_1):\n",
    "    decimal = int(decimal_1)\n",
    "    \n",
    "    print(\"The given decimal number\", decimal, \"in Binary number is: \", bin(decimal))\n",
    "    \n",
    "    \n",
    "#Decimal to Octal\n",
    "def decimal_to_octal(decimal_1):\n",
    "    decimal = int(decimal_1)\n",
    "    \n",
    "    print(\"The given decimal number\", decimal, \"in Octal number is: \", oct(decimal))\n",
    "    \n",
    "    \n",
    "#Decimal to Hexadecimal\n",
    "def decimal_to_hexadecimal(decimal_1):\n",
    "    decimal = int(decimal_1)\n",
    "    \n",
    "    print(\"The given decimal number\", decimal, \" in Hexadecimal number is: \", hex(decimal))\n",
    "    \n",
    "    \n",
    "decimal_1 = int(input(\"Enter the Decimal Number: \"))\n",
    "decimal_to_binary(decimal_1)\n",
    "decimal_to_octal(decimal_1)\n",
    "decimal_to_hexadecimal(decimal_1)"
   ]
  },
  {
   "cell_type": "code",
   "execution_count": null,
   "id": "5763b0b4",
   "metadata": {},
   "outputs": [],
   "source": []
  }
 ],
 "metadata": {
  "kernelspec": {
   "display_name": "Python 3",
   "language": "python",
   "name": "python3"
  },
  "language_info": {
   "codemirror_mode": {
    "name": "ipython",
    "version": 3
   },
   "file_extension": ".py",
   "mimetype": "text/x-python",
   "name": "python",
   "nbconvert_exporter": "python",
   "pygments_lexer": "ipython3",
   "version": "3.8.8"
  }
 },
 "nbformat": 4,
 "nbformat_minor": 5
}
