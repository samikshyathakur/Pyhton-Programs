{
 "cells": [
  {
   "cell_type": "markdown",
   "id": "633f602e",
   "metadata": {},
   "source": [
    "### WAP to print table of n, where n is entered by the user"
   ]
  },
  {
   "cell_type": "code",
   "execution_count": 1,
   "id": "53effc28",
   "metadata": {},
   "outputs": [
    {
     "name": "stdout",
     "output_type": "stream",
     "text": [
      "Enter the number to print the table: 5\n",
      "5 x 1 = 5\n",
      "5 x 2 = 10\n",
      "5 x 3 = 15\n",
      "5 x 4 = 20\n",
      "5 x 5 = 25\n",
      "5 x 6 = 30\n",
      "5 x 7 = 35\n",
      "5 x 8 = 40\n",
      "5 x 9 = 45\n",
      "5 x 10 = 50\n"
     ]
    }
   ],
   "source": [
    "n = int(input(\"Enter the number to print the table: \"))\n",
    "for i in range(1,11):\n",
    "    print(n,\"x\",i,\"=\", n*i)"
   ]
  },
  {
   "cell_type": "markdown",
   "id": "cf2643e5",
   "metadata": {},
   "source": [
    "### WAP to print the sum of n natural numbers, where n is entered by the user"
   ]
  },
  {
   "cell_type": "code",
   "execution_count": 2,
   "id": "89c52fa3",
   "metadata": {},
   "outputs": [
    {
     "name": "stdout",
     "output_type": "stream",
     "text": [
      "Enter a number: 8\n",
      "The sum of n natural numbers is  36\n"
     ]
    }
   ],
   "source": [
    "n = int(input(\"Enter a number: \"))\n",
    "sum = 0\n",
    "while(n>0):\n",
    "    sum = sum + n\n",
    "    n = n-1\n",
    "print(\"The sum of n natural numbers is \",sum)  "
   ]
  },
  {
   "cell_type": "markdown",
   "id": "db7205e2",
   "metadata": {},
   "source": [
    "### WAP to print the factorial of the given number, where number is entered by the user"
   ]
  },
  {
   "cell_type": "code",
   "execution_count": 3,
   "id": "f7d380ea",
   "metadata": {},
   "outputs": [
    {
     "name": "stdout",
     "output_type": "stream",
     "text": [
      "Enter a number: 5\n",
      "Factorial of  5 is: 120\n"
     ]
    }
   ],
   "source": [
    "def factorial(n):\n",
    "    if (n==1 or n==0):\n",
    "        return 1\n",
    "    else:\n",
    "        return n*factorial(n-1)\n",
    "\n",
    "num = int(input(\"Enter a number: \"))\n",
    "print(\"Factorial of \",num,\"is:\",factorial(num))   "
   ]
  },
  {
   "cell_type": "markdown",
   "id": "c99c8c98",
   "metadata": {},
   "source": [
    "### WAP to print natural numbers from 1 to n, n is entered by the user"
   ]
  },
  {
   "cell_type": "code",
   "execution_count": 4,
   "id": "53e2a1d2",
   "metadata": {},
   "outputs": [
    {
     "name": "stdout",
     "output_type": "stream",
     "text": [
      "Enter a number:10\n",
      "Natural numbers 1 to 10\n",
      "1\n",
      "2\n",
      "3\n",
      "4\n",
      "5\n",
      "6\n",
      "7\n",
      "8\n",
      "9\n",
      "10\n"
     ]
    }
   ],
   "source": [
    "num = int(input(\"Enter a number:\"))\n",
    "print(\"Natural numbers 1 to\",num)\n",
    "for i in range(1, num+1):\n",
    "    print(i)"
   ]
  },
  {
   "cell_type": "markdown",
   "id": "1f7203c0",
   "metadata": {},
   "source": [
    "### WAP to input sales of the month and calculate the average sales of that month"
   ]
  },
  {
   "cell_type": "code",
   "execution_count": 5,
   "id": "b1e0199e",
   "metadata": {},
   "outputs": [
    {
     "name": "stdout",
     "output_type": "stream",
     "text": [
      "Enter the no of sales: 5\n",
      "Enter number : 23\n",
      "Enter number : 45\n",
      "Enter number : 67\n",
      "Enter number : 89\n",
      "Enter number : 95\n",
      "Average of the sales is 63.8\n"
     ]
    }
   ],
   "source": [
    "num = int(input(\"Enter the no of sales: \"))\n",
    "total_sum = 0\n",
    "for n in range(num):\n",
    "    numbers = int(input(\"Enter number : \"))\n",
    "    total_sum += numbers\n",
    "avg = total_sum/num\n",
    "print(\"Average of the sales is\", avg)"
   ]
  },
  {
   "cell_type": "code",
   "execution_count": null,
   "id": "ca83e571",
   "metadata": {},
   "outputs": [],
   "source": []
  }
 ],
 "metadata": {
  "kernelspec": {
   "display_name": "Python 3",
   "language": "python",
   "name": "python3"
  },
  "language_info": {
   "codemirror_mode": {
    "name": "ipython",
    "version": 3
   },
   "file_extension": ".py",
   "mimetype": "text/x-python",
   "name": "python",
   "nbconvert_exporter": "python",
   "pygments_lexer": "ipython3",
   "version": "3.8.8"
  }
 },
 "nbformat": 4,
 "nbformat_minor": 5
}
