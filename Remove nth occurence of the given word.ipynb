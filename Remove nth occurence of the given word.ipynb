{
 "cells": [
  {
   "cell_type": "code",
   "execution_count": 1,
   "id": "d3ec2267",
   "metadata": {},
   "outputs": [
    {
     "name": "stdout",
     "output_type": "stream",
     "text": [
      "Updated list: ['geeks', 'for']\n"
     ]
    }
   ],
   "source": [
    "my_list = [\"geeks\",\"for\",\"geeks\"]\n",
    "word = \"geeks\"\n",
    "n = 2\n",
    "\n",
    "count = 0\n",
    "\n",
    "for i in range(0,len(my_list)):\n",
    "    if my_list[i] == word:\n",
    "        count = count + 1\n",
    "        if(count == n):\n",
    "            del my_list[i]\n",
    "            \n",
    "            \n",
    "print(\"Updated list:\",my_list)            "
   ]
  },
  {
   "cell_type": "code",
   "execution_count": null,
   "id": "195e98fe",
   "metadata": {},
   "outputs": [],
   "source": []
  }
 ],
 "metadata": {
  "kernelspec": {
   "display_name": "Python 3",
   "language": "python",
   "name": "python3"
  },
  "language_info": {
   "codemirror_mode": {
    "name": "ipython",
    "version": 3
   },
   "file_extension": ".py",
   "mimetype": "text/x-python",
   "name": "python",
   "nbconvert_exporter": "python",
   "pygments_lexer": "ipython3",
   "version": "3.8.8"
  }
 },
 "nbformat": 4,
 "nbformat_minor": 5
}
