{
 "cells": [
  {
   "cell_type": "code",
   "execution_count": 1,
   "id": "8c23d11e",
   "metadata": {},
   "outputs": [
    {
     "name": "stdout",
     "output_type": "stream",
     "text": [
      "Element found\n"
     ]
    }
   ],
   "source": [
    "#Approach 1: Using Loop\n",
    "\n",
    "my_list = [1,6,3,5,3,4]\n",
    "ele = 4\n",
    "flag = 0\n",
    "\n",
    "for i in my_list:\n",
    "    if(i == ele):\n",
    "        print(\"Element found\")\n",
    "        flag = 1\n",
    "        break\n",
    "if(flag == 0):\n",
    "    print(\"Element Not found\")"
   ]
  },
  {
   "cell_type": "code",
   "execution_count": 4,
   "id": "6fad3741",
   "metadata": {},
   "outputs": [
    {
     "name": "stdout",
     "output_type": "stream",
     "text": [
      "Element found\n"
     ]
    }
   ],
   "source": [
    "#Approach 2: Using in operator\n",
    "\n",
    "my_list = [1,6,3,5,3,4]\n",
    "ele = 5\n",
    "\n",
    "if(ele in my_list):\n",
    "    print(\"Element found\")\n",
    "else:\n",
    "    print(\"Element Not found\")"
   ]
  },
  {
   "cell_type": "code",
   "execution_count": null,
   "id": "3a57b4e0",
   "metadata": {},
   "outputs": [],
   "source": []
  }
 ],
 "metadata": {
  "kernelspec": {
   "display_name": "Python 3",
   "language": "python",
   "name": "python3"
  },
  "language_info": {
   "codemirror_mode": {
    "name": "ipython",
    "version": 3
   },
   "file_extension": ".py",
   "mimetype": "text/x-python",
   "name": "python",
   "nbconvert_exporter": "python",
   "pygments_lexer": "ipython3",
   "version": "3.8.8"
  }
 },
 "nbformat": 4,
 "nbformat_minor": 5
}
