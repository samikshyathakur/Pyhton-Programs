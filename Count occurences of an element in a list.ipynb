{
 "cells": [
  {
   "cell_type": "code",
   "execution_count": 1,
   "id": "3cd47efe",
   "metadata": {},
   "outputs": [
    {
     "name": "stdout",
     "output_type": "stream",
     "text": [
      "10 has occured 3 times\n"
     ]
    }
   ],
   "source": [
    "#Approach 1: Using loop\n",
    "\n",
    "my_list = [15,6,7,10,12,20,10,28,10]\n",
    "x = 10\n",
    "count = 0\n",
    "\n",
    "for ele in my_list:\n",
    "    if(ele == x):\n",
    "        count = count + 1\n",
    "print(\"{} has occured {} times\".format(x,count))        "
   ]
  },
  {
   "cell_type": "code",
   "execution_count": 2,
   "id": "1b87ee72",
   "metadata": {},
   "outputs": [
    {
     "name": "stdout",
     "output_type": "stream",
     "text": [
      "10 has occured 3 times\n"
     ]
    }
   ],
   "source": [
    "#Approach 2: Using count() method\n",
    "\n",
    "my_list = [15,6,7,10,12,20,10,28,10]\n",
    "x = 10\n",
    "print(\"{} has occured {} times\".format(x,my_list.count(x))) "
   ]
  },
  {
   "cell_type": "code",
   "execution_count": 4,
   "id": "a929bd42",
   "metadata": {},
   "outputs": [
    {
     "name": "stdout",
     "output_type": "stream",
     "text": [
      "10 has occured 3 times\n"
     ]
    }
   ],
   "source": [
    "#Approach 3: Using Counter() method\n",
    "\n",
    "from collections import Counter\n",
    "my_list = [5,6,7,10,12,20,10,28,10]\n",
    "x = 10\n",
    "dict = Counter(my_list)\n",
    "print(\"{} has occured {} times\".format(x,dict[x]))"
   ]
  },
  {
   "cell_type": "code",
   "execution_count": null,
   "id": "648b5343",
   "metadata": {},
   "outputs": [],
   "source": []
  }
 ],
 "metadata": {
  "kernelspec": {
   "display_name": "Python 3",
   "language": "python",
   "name": "python3"
  },
  "language_info": {
   "codemirror_mode": {
    "name": "ipython",
    "version": 3
   },
   "file_extension": ".py",
   "mimetype": "text/x-python",
   "name": "python",
   "nbconvert_exporter": "python",
   "pygments_lexer": "ipython3",
   "version": "3.8.8"
  }
 },
 "nbformat": 4,
 "nbformat_minor": 5
}
