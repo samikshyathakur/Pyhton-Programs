{
 "cells": [
  {
   "cell_type": "code",
   "execution_count": 2,
   "id": "7943e9d4",
   "metadata": {},
   "outputs": [
    {
     "name": "stdout",
     "output_type": "stream",
     "text": [
      "[10, 20, 30, 40, 50]\n",
      "Length of list is: 5\n"
     ]
    }
   ],
   "source": [
    "# Using loop\n",
    "my_list = [10,20,30,40,50]\n",
    "print(my_list)\n",
    "\n",
    "count = 0\n",
    "\n",
    "for i in my_list:\n",
    "    count = count + 1\n",
    "    \n",
    "print(\"Length of list is:\",count)    "
   ]
  },
  {
   "cell_type": "code",
   "execution_count": 3,
   "id": "313940dd",
   "metadata": {},
   "outputs": [
    {
     "name": "stdout",
     "output_type": "stream",
     "text": [
      "5\n"
     ]
    }
   ],
   "source": [
    "# using len() function\n",
    "my_list = [10,20,30,40,50]\n",
    "print(len(my_list))"
   ]
  },
  {
   "cell_type": "code",
   "execution_count": null,
   "id": "1a8ae604",
   "metadata": {},
   "outputs": [],
   "source": []
  }
 ],
 "metadata": {
  "kernelspec": {
   "display_name": "Python 3",
   "language": "python",
   "name": "python3"
  },
  "language_info": {
   "codemirror_mode": {
    "name": "ipython",
    "version": 3
   },
   "file_extension": ".py",
   "mimetype": "text/x-python",
   "name": "python",
   "nbconvert_exporter": "python",
   "pygments_lexer": "ipython3",
   "version": "3.8.8"
  }
 },
 "nbformat": 4,
 "nbformat_minor": 5
}
