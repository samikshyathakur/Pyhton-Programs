{
 "cells": [
  {
   "cell_type": "code",
   "execution_count": 2,
   "id": "07158926",
   "metadata": {},
   "outputs": [
    {
     "name": "stdout",
     "output_type": "stream",
     "text": [
      "No special characters present in the string\n"
     ]
    }
   ],
   "source": [
    "import re\n",
    "\n",
    "str = \"Welcome@@2To%%Pyhton**Programming@!!^%%@$\"\n",
    "str2 = \"Welcome to Python Programming\"\n",
    "\n",
    "regex = re.compile('[@_!#$%^&*()<>?/\\|}{~:]')\n",
    "\n",
    "if(regex.search(str2) == None):\n",
    "    print(\"No special characters present in the string\")\n",
    "else:\n",
    "    print(\"String contains special characters\")"
   ]
  },
  {
   "cell_type": "code",
   "execution_count": null,
   "id": "958c82ae",
   "metadata": {},
   "outputs": [],
   "source": []
  }
 ],
 "metadata": {
  "kernelspec": {
   "display_name": "Python 3",
   "language": "python",
   "name": "python3"
  },
  "language_info": {
   "codemirror_mode": {
    "name": "ipython",
    "version": 3
   },
   "file_extension": ".py",
   "mimetype": "text/x-python",
   "name": "python",
   "nbconvert_exporter": "python",
   "pygments_lexer": "ipython3",
   "version": "3.8.8"
  }
 },
 "nbformat": 4,
 "nbformat_minor": 5
}
