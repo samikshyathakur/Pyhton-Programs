{
 "cells": [
  {
   "cell_type": "code",
   "execution_count": 5,
   "id": "a3c6f9d0",
   "metadata": {},
   "outputs": [
    {
     "name": "stdout",
     "output_type": "stream",
     "text": [
      "11\n",
      "Found\n"
     ]
    }
   ],
   "source": [
    "# We will use find() method\n",
    "# The find() method finds the first occurence of the specified value\n",
    "# The find() method returns -1 if the value is not found\n",
    "\n",
    "str = \"Welcome to Python Programming\"\n",
    "sub_str = \"Python\"\n",
    "\n",
    "print(str.find(sub_str))  # It will return the position of the substring\n",
    "\n",
    "if (str.find(sub_str) == -1):\n",
    "    print(\"Not found\")\n",
    "else:\n",
    "    print(\"Found\")"
   ]
  },
  {
   "cell_type": "code",
   "execution_count": null,
   "id": "2b64d6dc",
   "metadata": {},
   "outputs": [],
   "source": []
  }
 ],
 "metadata": {
  "kernelspec": {
   "display_name": "Python 3",
   "language": "python",
   "name": "python3"
  },
  "language_info": {
   "codemirror_mode": {
    "name": "ipython",
    "version": 3
   },
   "file_extension": ".py",
   "mimetype": "text/x-python",
   "name": "python",
   "nbconvert_exporter": "python",
   "pygments_lexer": "ipython3",
   "version": "3.8.8"
  }
 },
 "nbformat": 4,
 "nbformat_minor": 5
}
