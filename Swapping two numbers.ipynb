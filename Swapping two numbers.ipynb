{
 "cells": [
  {
   "cell_type": "code",
   "execution_count": 1,
   "id": "aabc8df2",
   "metadata": {},
   "outputs": [
    {
     "name": "stdout",
     "output_type": "stream",
     "text": [
      "Value of num1 before swapping: 10\n",
      "Value of num2 before swapping: 20\n",
      "Value of num1 after swapping: 20\n",
      "Value of num2 after swapping: 10\n"
     ]
    }
   ],
   "source": [
    "num1 = 10\n",
    "num2 = 20\n",
    "\n",
    "print(\"Value of num1 before swapping:\",num1)\n",
    "print(\"Value of num2 before swapping:\",num2)\n",
    "\n",
    "# swapping using temporary variable\n",
    "temp = num1\n",
    "num1 = num2\n",
    "num2 = temp\n",
    "\n",
    "print(\"Value of num1 after swapping:\",num1)\n",
    "print(\"Value of num2 after swapping:\",num2)"
   ]
  },
  {
   "cell_type": "code",
   "execution_count": 2,
   "id": "6ac052a3",
   "metadata": {},
   "outputs": [
    {
     "name": "stdout",
     "output_type": "stream",
     "text": [
      "Enter the value of num1:20\n",
      "Enter the value of num2:30\n",
      "Value of num1 before swapping: 20\n",
      "Value of num2 before swapping: 30\n",
      "Value of num1 after swapping: 30\n",
      "Value of num2 after swapping: 20\n"
     ]
    }
   ],
   "source": [
    "# taking user input\n",
    "num1 = int(input(\"Enter the value of num1:\"))\n",
    "num2 = int(input(\"Enter the value of num2:\"))\n",
    "\n",
    "print(\"Value of num1 before swapping:\",num1)\n",
    "print(\"Value of num2 before swapping:\",num2)\n",
    "\n",
    "# swapping without using temporary variable\n",
    "num1, num2 = num2, num1\n",
    "\n",
    "print(\"Value of num1 after swapping:\",num1)\n",
    "print(\"Value of num2 after swapping:\",num2)"
   ]
  },
  {
   "cell_type": "code",
   "execution_count": null,
   "id": "3101a039",
   "metadata": {},
   "outputs": [],
   "source": []
  }
 ],
 "metadata": {
  "kernelspec": {
   "display_name": "Python 3",
   "language": "python",
   "name": "python3"
  },
  "language_info": {
   "codemirror_mode": {
    "name": "ipython",
    "version": 3
   },
   "file_extension": ".py",
   "mimetype": "text/x-python",
   "name": "python",
   "nbconvert_exporter": "python",
   "pygments_lexer": "ipython3",
   "version": "3.8.8"
  }
 },
 "nbformat": 4,
 "nbformat_minor": 5
}
