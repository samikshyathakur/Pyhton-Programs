{
 "cells": [
  {
   "cell_type": "code",
   "execution_count": 1,
   "id": "ce10bf1c",
   "metadata": {},
   "outputs": [
    {
     "name": "stdout",
     "output_type": "stream",
     "text": [
      "List before reverse: [10, 11, 12, 13, 14, 15]\n",
      "List after reverse: [15, 14, 13, 12, 11, 10]\n"
     ]
    }
   ],
   "source": [
    "#Approach 1: Using reverse() method\n",
    "\n",
    "my_list = [10,11,12,13,14,15]\n",
    "print(\"List before reverse:\",my_list)\n",
    "my_list.reverse()\n",
    "print(\"List after reverse:\",my_list)"
   ]
  },
  {
   "cell_type": "code",
   "execution_count": 2,
   "id": "db2d4587",
   "metadata": {},
   "outputs": [
    {
     "name": "stdout",
     "output_type": "stream",
     "text": [
      "List before reverse: [10, 11, 12, 13, 14, 15]\n",
      "List after reverse: [15, 14, 13, 12, 11, 10]\n"
     ]
    }
   ],
   "source": [
    "#Approach 2: Using slicing technique\n",
    "\n",
    "my_list = [10,11,12,13,14,15]\n",
    "print(\"List before reverse:\",my_list)\n",
    "list2 = my_list[::-1]\n",
    "print(\"List after reverse:\",list2)"
   ]
  },
  {
   "cell_type": "code",
   "execution_count": null,
   "id": "7dd8e51b",
   "metadata": {},
   "outputs": [],
   "source": []
  }
 ],
 "metadata": {
  "kernelspec": {
   "display_name": "Python 3",
   "language": "python",
   "name": "python3"
  },
  "language_info": {
   "codemirror_mode": {
    "name": "ipython",
    "version": 3
   },
   "file_extension": ".py",
   "mimetype": "text/x-python",
   "name": "python",
   "nbconvert_exporter": "python",
   "pygments_lexer": "ipython3",
   "version": "3.8.8"
  }
 },
 "nbformat": 4,
 "nbformat_minor": 5
}
