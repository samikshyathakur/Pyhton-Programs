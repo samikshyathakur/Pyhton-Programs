{
 "cells": [
  {
   "cell_type": "markdown",
   "id": "a86b8b45",
   "metadata": {},
   "source": [
    "# Exceptions"
   ]
  },
  {
   "cell_type": "markdown",
   "id": "1b8e33da",
   "metadata": {},
   "source": [
    "## 1.Exceptions"
   ]
  },
  {
   "cell_type": "markdown",
   "id": "44e99740",
   "metadata": {},
   "source": [
    "### An exception is a kind of error that terminates the excution of program."
   ]
  },
  {
   "cell_type": "code",
   "execution_count": 1,
   "id": "aac245e0",
   "metadata": {},
   "outputs": [
    {
     "name": "stdout",
     "output_type": "stream",
     "text": [
      "age : 2\n"
     ]
    }
   ],
   "source": [
    "age = int(input(\"age : \"))"
   ]
  },
  {
   "cell_type": "markdown",
   "id": "c21df4b5",
   "metadata": {},
   "source": [
    "## 2.Handling Exceptions"
   ]
  },
  {
   "cell_type": "code",
   "execution_count": 2,
   "id": "05690c0b",
   "metadata": {},
   "outputs": [
    {
     "name": "stdout",
     "output_type": "stream",
     "text": [
      "enter the num1\n",
      "3\n",
      "enter the num2\n",
      "4\n",
      "the sum of num1 and num2 is 7\n"
     ]
    }
   ],
   "source": [
    "print(\"enter the num1\")\n",
    "num1 = int(input())\n",
    "print(\"enter the num2\")\n",
    "num2 = int(input())\n",
    "print(\"the sum of num1 and num2 is\",num1+num2)"
   ]
  },
  {
   "cell_type": "code",
   "execution_count": 3,
   "id": "3dabad48",
   "metadata": {},
   "outputs": [
    {
     "name": "stdout",
     "output_type": "stream",
     "text": [
      "enter the num1\n",
      "3\n",
      "enter the num2\n",
      "5\n",
      "the sum of num1 and num2 is 8\n",
      "this line is important\n"
     ]
    }
   ],
   "source": [
    "print(\"enter the num1\")\n",
    "num1 = input()\n",
    "print(\"enter the num2\")\n",
    "num2 = input()\n",
    "print(\"the sum of num1 and num2 is\",int(num1)+int(num2))\n",
    "\n",
    "\n",
    "print(\"this line is important\")\n"
   ]
  },
  {
   "cell_type": "code",
   "execution_count": 4,
   "id": "d95faebb",
   "metadata": {},
   "outputs": [
    {
     "name": "stdout",
     "output_type": "stream",
     "text": [
      "enter the num1\n",
      "7\n",
      "enter the num2\n",
      "s\n",
      "invalid literal for int() with base 10: 's'\n",
      "this line is very important\n"
     ]
    }
   ],
   "source": [
    "print(\"enter the num1\")\n",
    "num1 = input()\n",
    "print(\"enter the num2\")\n",
    "num2 = input()\n",
    "\n",
    "try:\n",
    "    print(\"the sum of num1 and num2 is\",int(num1)+int(num2))\n",
    "    \n",
    "except Exception as error:\n",
    "    print(error)\n",
    "    \n",
    "print(\"this line is very important\")\n",
    "    "
   ]
  },
  {
   "cell_type": "code",
   "execution_count": 5,
   "id": "f5d8a8b8",
   "metadata": {
    "scrolled": true
   },
   "outputs": [
    {
     "name": "stdout",
     "output_type": "stream",
     "text": [
      "age: 45\n",
      "this line is very important\n"
     ]
    }
   ],
   "source": [
    "age  = int(input(\"age: \"))\n",
    "\n",
    "print(\"this line is very important\")\n"
   ]
  },
  {
   "cell_type": "code",
   "execution_count": 6,
   "id": "53ff3a2d",
   "metadata": {},
   "outputs": [
    {
     "name": "stdout",
     "output_type": "stream",
     "text": [
      "age: g\n",
      "u did not enter a valid age\n",
      "this line is very important\n"
     ]
    }
   ],
   "source": [
    "try:\n",
    "    age = int(input(\"age: \"))\n",
    "except:\n",
    "    #print(\"Error--\",error)\n",
    "    print(\"u did not enter a valid age\")\n",
    "else:\n",
    "    print(\"no exception were thrown\")\n",
    "    \n",
    "    \n",
    "print(\"this line is very important\")\n",
    "    "
   ]
  },
  {
   "cell_type": "code",
   "execution_count": 7,
   "id": "bbee6b9b",
   "metadata": {},
   "outputs": [
    {
     "name": "stdout",
     "output_type": "stream",
     "text": [
      "age: 35\n",
      "no exception were thrown\n",
      "this line is very important\n"
     ]
    }
   ],
   "source": [
    "try:\n",
    "    age = int(input(\"age: \"))\n",
    "except Exception as error:\n",
    "    print(\"error:-\",error)\n",
    "else:\n",
    "    print(\"no exception were thrown\")\n",
    "    \n",
    "    \n",
    "print(\"this line is very important\")"
   ]
  },
  {
   "cell_type": "markdown",
   "id": "5c316b35",
   "metadata": {},
   "source": [
    "## 3.Cleaning Up"
   ]
  },
  {
   "cell_type": "code",
   "execution_count": 8,
   "id": "cb038d4c",
   "metadata": {},
   "outputs": [
    {
     "name": "stdout",
     "output_type": "stream",
     "text": [
      "age: 32\n",
      "no exception were thrown\n"
     ]
    }
   ],
   "source": [
    "try:\n",
    "    file = open(\"Exception Handling.ipynb\")\n",
    "    age = int(input(\"age: \"))\n",
    "except Exception as error:\n",
    "    print(\"error:-\",error)\n",
    "else:\n",
    "    print(\"no exception were thrown\")\n",
    "    \n",
    "finally:\n",
    "    file.close()"
   ]
  }
 ],
 "metadata": {
  "kernelspec": {
   "display_name": "Python 3",
   "language": "python",
   "name": "python3"
  },
  "language_info": {
   "codemirror_mode": {
    "name": "ipython",
    "version": 3
   },
   "file_extension": ".py",
   "mimetype": "text/x-python",
   "name": "python",
   "nbconvert_exporter": "python",
   "pygments_lexer": "ipython3",
   "version": "3.8.8"
  }
 },
 "nbformat": 4,
 "nbformat_minor": 5
}
