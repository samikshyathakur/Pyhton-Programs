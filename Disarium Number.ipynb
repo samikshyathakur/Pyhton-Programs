{
 "cells": [
  {
   "cell_type": "code",
   "execution_count": 2,
   "id": "b1483dbf",
   "metadata": {},
   "outputs": [
    {
     "name": "stdout",
     "output_type": "stream",
     "text": [
      "Enter a number: 175\n",
      "175 is a disarium number\n"
     ]
    }
   ],
   "source": [
    "def calculate_length(n):\n",
    "    length = 0\n",
    "    while(n != 0):\n",
    "        length = length + 1\n",
    "        n = n // 10\n",
    "    return length\n",
    "\n",
    "\n",
    "num = int(input(\"Enter a number: \"))\n",
    "rem = sum = 0\n",
    "len = calculate_length(num)\n",
    "\n",
    "\n",
    "n1 = num\n",
    "\n",
    "\n",
    "while(num > 0):    \n",
    "    rem = num % 10    \n",
    "    sum = sum + int(rem**len)    \n",
    "    num = num // 10    \n",
    "    len = len - 1    \n",
    "\n",
    "    \n",
    "if(sum == n1):    \n",
    "    print(str(n1) + \" is a disarium number\")    \n",
    "else:    \n",
    "    print(str(n1) + \" is not a disarium number\")      "
   ]
  },
  {
   "cell_type": "code",
   "execution_count": null,
   "id": "33dde196",
   "metadata": {},
   "outputs": [],
   "source": []
  }
 ],
 "metadata": {
  "kernelspec": {
   "display_name": "Python 3",
   "language": "python",
   "name": "python3"
  },
  "language_info": {
   "codemirror_mode": {
    "name": "ipython",
    "version": 3
   },
   "file_extension": ".py",
   "mimetype": "text/x-python",
   "name": "python",
   "nbconvert_exporter": "python",
   "pygments_lexer": "ipython3",
   "version": "3.8.8"
  }
 },
 "nbformat": 4,
 "nbformat_minor": 5
}
