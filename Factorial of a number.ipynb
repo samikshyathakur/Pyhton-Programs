{
 "cells": [
  {
   "cell_type": "code",
   "execution_count": 1,
   "id": "d983f3b7",
   "metadata": {},
   "outputs": [
    {
     "name": "stdout",
     "output_type": "stream",
     "text": [
      "The factorial of 5 is 120\n"
     ]
    }
   ],
   "source": [
    "factorial = 1\n",
    "num = 5\n",
    "\n",
    "if num<0:\n",
    "    print(\"Factorial does not exist for negative number\")\n",
    "elif num == 0:\n",
    "    print(\"The factorial of 0 is 1\")\n",
    "else:\n",
    "    for i in range(1, num+1):\n",
    "        factorial = factorial * i\n",
    "    print(\"The factorial of\", num, \"is\", factorial)    "
   ]
  },
  {
   "cell_type": "code",
   "execution_count": 1,
   "id": "39cf096d",
   "metadata": {},
   "outputs": [
    {
     "name": "stdout",
     "output_type": "stream",
     "text": [
      "Factorial of 5 is 120\n"
     ]
    }
   ],
   "source": [
    "# By using recursive function\n",
    "def factorial(n):\n",
    "#     if (n==0 or n==1):\n",
    "#         return 1\n",
    "#     else:\n",
    "#         return n * factorial(n-1)\n",
    "\n",
    "      return 1 if(n==0 or n==1) else n * factorial(n-1) #Ternary operator\n",
    "    \n",
    "num = 5\n",
    "print(\"Factorial of\", num, \"is\", factorial(num))"
   ]
  },
  {
   "cell_type": "code",
   "execution_count": null,
   "id": "e5bb3d15",
   "metadata": {},
   "outputs": [],
   "source": []
  }
 ],
 "metadata": {
  "kernelspec": {
   "display_name": "Python 3",
   "language": "python",
   "name": "python3"
  },
  "language_info": {
   "codemirror_mode": {
    "name": "ipython",
    "version": 3
   },
   "file_extension": ".py",
   "mimetype": "text/x-python",
   "name": "python",
   "nbconvert_exporter": "python",
   "pygments_lexer": "ipython3",
   "version": "3.8.8"
  }
 },
 "nbformat": 4,
 "nbformat_minor": 5
}
