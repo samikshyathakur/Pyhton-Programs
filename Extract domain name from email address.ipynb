{
 "cells": [
  {
   "cell_type": "markdown",
   "id": "b1016f55",
   "metadata": {},
   "source": [
    "#### We can extract domain from email address by using two methods"
   ]
  },
  {
   "cell_type": "markdown",
   "id": "d9a084ea",
   "metadata": {},
   "source": [
    "### Method 1: Using index() + slicing"
   ]
  },
  {
   "cell_type": "code",
   "execution_count": 2,
   "id": "bae2de64",
   "metadata": {},
   "outputs": [
    {
     "name": "stdout",
     "output_type": "stream",
     "text": [
      "The original string is : abc123@gmail.com\n",
      "The extracted domain name : gmail.com\n"
     ]
    }
   ],
   "source": [
    "# initializing strings\n",
    "email = 'abc123@gmail.com'\n",
    "  \n",
    "# printing original string\n",
    "print(\"The original string is : \" + str(email))\n",
    "  \n",
    "# slicing domain name using slicing \n",
    "res = email[email.index('@') + 1 : ]\n",
    "  \n",
    "# printing result \n",
    "print(\"The extracted domain name : \" + str(res))"
   ]
  },
  {
   "cell_type": "markdown",
   "id": "eed87159",
   "metadata": {},
   "source": [
    "### Method 2: Using split()"
   ]
  },
  {
   "cell_type": "code",
   "execution_count": 3,
   "id": "445d72d3",
   "metadata": {},
   "outputs": [
    {
     "name": "stdout",
     "output_type": "stream",
     "text": [
      "The original string is : xyz456@gmail.com\n",
      "The extracted domain name : gmail.com\n"
     ]
    }
   ],
   "source": [
    "# initializing strings\n",
    "email_1 = 'xyz456@gmail.com'\n",
    "  \n",
    "# printing original string\n",
    "print(\"The original string is : \" + str(email_1))\n",
    "  \n",
    "# using split() to get domain name\n",
    "res = email_1.split('@')[1]\n",
    "  \n",
    "# printing result \n",
    "print(\"The extracted domain name : \" + str(res))"
   ]
  },
  {
   "cell_type": "code",
   "execution_count": null,
   "id": "6973dd62",
   "metadata": {},
   "outputs": [],
   "source": []
  }
 ],
 "metadata": {
  "kernelspec": {
   "display_name": "Python 3",
   "language": "python",
   "name": "python3"
  },
  "language_info": {
   "codemirror_mode": {
    "name": "ipython",
    "version": 3
   },
   "file_extension": ".py",
   "mimetype": "text/x-python",
   "name": "python",
   "nbconvert_exporter": "python",
   "pygments_lexer": "ipython3",
   "version": "3.8.8"
  }
 },
 "nbformat": 4,
 "nbformat_minor": 5
}
