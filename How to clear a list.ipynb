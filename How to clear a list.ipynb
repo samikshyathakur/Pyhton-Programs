{
 "cells": [
  {
   "cell_type": "code",
   "execution_count": 1,
   "id": "2faba0ec",
   "metadata": {},
   "outputs": [
    {
     "name": "stdout",
     "output_type": "stream",
     "text": [
      "List before clearing: [6, 0, 4, 1]\n",
      "List after clearing: []\n"
     ]
    }
   ],
   "source": [
    "#Approach 1: Using clear() method\n",
    "\n",
    "my_list = [6,0,4,1]\n",
    "print(\"List before clearing:\",my_list)\n",
    "my_list.clear()\n",
    "print(\"List after clearing:\",my_list)"
   ]
  },
  {
   "cell_type": "code",
   "execution_count": 2,
   "id": "33c0d4d6",
   "metadata": {},
   "outputs": [
    {
     "name": "stdout",
     "output_type": "stream",
     "text": [
      "List before clearing: [6, 0, 4, 1]\n",
      "List after clearing: []\n"
     ]
    }
   ],
   "source": [
    "#Approach 2: Initializing the list with no value\n",
    "\n",
    "my_list = [6,0,4,1]\n",
    "print(\"List before clearing:\",my_list)\n",
    "my_list = []\n",
    "print(\"List after clearing:\",my_list)"
   ]
  },
  {
   "cell_type": "code",
   "execution_count": 3,
   "id": "809415bc",
   "metadata": {},
   "outputs": [
    {
     "name": "stdout",
     "output_type": "stream",
     "text": [
      "List before clearing: [6, 0, 4, 1]\n",
      "List after clearing: []\n"
     ]
    }
   ],
   "source": [
    "#Approach 3: Using \"*=0\". This method removes all the elements from the list and makes it empty\n",
    "\n",
    "my_list = [6,0,4,1]\n",
    "print(\"List before clearing:\",my_list)\n",
    "my_list *= 0\n",
    "print(\"List after clearing:\",my_list)"
   ]
  },
  {
   "cell_type": "code",
   "execution_count": 6,
   "id": "a200b0f7",
   "metadata": {},
   "outputs": [
    {
     "name": "stdout",
     "output_type": "stream",
     "text": [
      "List before clearing: [6, 0, 4, 1]\n",
      "List after clearing: [6, 1]\n"
     ]
    }
   ],
   "source": [
    "#Approach 4: Using del method\n",
    "\n",
    "my_list = [6,0,4,1]\n",
    "print(\"List before clearing:\",my_list)\n",
    "\n",
    "del my_list[1:3]\n",
    "print(\"List after clearing:\",my_list)"
   ]
  },
  {
   "cell_type": "code",
   "execution_count": null,
   "id": "e43ce3bb",
   "metadata": {},
   "outputs": [],
   "source": []
  }
 ],
 "metadata": {
  "kernelspec": {
   "display_name": "Python 3",
   "language": "python",
   "name": "python3"
  },
  "language_info": {
   "codemirror_mode": {
    "name": "ipython",
    "version": 3
   },
   "file_extension": ".py",
   "mimetype": "text/x-python",
   "name": "python",
   "nbconvert_exporter": "python",
   "pygments_lexer": "ipython3",
   "version": "3.8.8"
  }
 },
 "nbformat": 4,
 "nbformat_minor": 5
}
