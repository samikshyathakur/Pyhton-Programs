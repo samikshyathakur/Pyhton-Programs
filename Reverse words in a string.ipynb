{
 "cells": [
  {
   "cell_type": "code",
   "execution_count": 3,
   "id": "a945f369",
   "metadata": {},
   "outputs": [
    {
     "name": "stdout",
     "output_type": "stream",
     "text": [
      "['Welcome', 'to', 'Python', 'Programming']\n",
      "['Programming', 'Python', 'to', 'Welcome']\n",
      "Programming Python to Welcome\n"
     ]
    }
   ],
   "source": [
    "str = \"Welcome to Python Programming\"\n",
    "\n",
    "words = str.split(\" \")\n",
    "print(words)       #['Welcome', 'to', 'Python', 'Programming']\n",
    "\n",
    "revwords = words[-1::-1]\n",
    "print(revwords)    #['Programming', 'Python', 'to', 'Welcome']\n",
    "\n",
    "outputstr = ' '.join(revwords)\n",
    "print(outputstr)"
   ]
  },
  {
   "cell_type": "code",
   "execution_count": null,
   "id": "4d4af413",
   "metadata": {},
   "outputs": [],
   "source": []
  }
 ],
 "metadata": {
  "kernelspec": {
   "display_name": "Python 3",
   "language": "python",
   "name": "python3"
  },
  "language_info": {
   "codemirror_mode": {
    "name": "ipython",
    "version": 3
   },
   "file_extension": ".py",
   "mimetype": "text/x-python",
   "name": "python",
   "nbconvert_exporter": "python",
   "pygments_lexer": "ipython3",
   "version": "3.8.8"
  }
 },
 "nbformat": 4,
 "nbformat_minor": 5
}
