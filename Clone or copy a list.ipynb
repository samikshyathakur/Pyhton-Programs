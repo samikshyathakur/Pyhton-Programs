{
 "cells": [
  {
   "cell_type": "code",
   "execution_count": 1,
   "id": "0939a6f8",
   "metadata": {},
   "outputs": [
    {
     "name": "stdout",
     "output_type": "stream",
     "text": [
      "Original list: [4, 8, 2, 10, 15, 18]\n",
      "Copy of list: [4, 8, 2, 10, 15, 18]\n"
     ]
    }
   ],
   "source": [
    "#Approach 1: Using slicing technique\n",
    "\n",
    "my_list = [4,8,2,10,15,18]\n",
    "print(\"Original list:\",my_list)\n",
    "my_listCopy = my_list[:]\n",
    "print(\"Copy of list:\",my_listCopy)"
   ]
  },
  {
   "cell_type": "code",
   "execution_count": 3,
   "id": "b6968715",
   "metadata": {},
   "outputs": [
    {
     "name": "stdout",
     "output_type": "stream",
     "text": [
      "Original list: [4, 8, 2, 10, 15, 18]\n",
      "Copy of list: [4, 8, 2, 10, 15, 18]\n"
     ]
    }
   ],
   "source": [
    "#Approach 2: Using extend() method\n",
    "\n",
    "my_list = [4,8,2,10,15,18]\n",
    "print(\"Original list:\",my_list)\n",
    "my_listCopy = []\n",
    "my_listCopy.extend(my_list)\n",
    "print(\"Copy of list:\",my_listCopy)"
   ]
  },
  {
   "cell_type": "code",
   "execution_count": 4,
   "id": "4cf03844",
   "metadata": {},
   "outputs": [
    {
     "name": "stdout",
     "output_type": "stream",
     "text": [
      "Original list: [4, 8, 2, 10, 15, 18]\n",
      "Copy of list: [4, 8, 2, 10, 15, 18]\n"
     ]
    }
   ],
   "source": [
    "#Approach 3: Using list() method\n",
    "\n",
    "my_list = [4,8,2,10,15,18]\n",
    "print(\"Original list:\",my_list)\n",
    "my_listCopy = list(my_list)\n",
    "print(\"Copy of list:\",my_listCopy)"
   ]
  },
  {
   "cell_type": "code",
   "execution_count": 5,
   "id": "e15e59f9",
   "metadata": {},
   "outputs": [
    {
     "name": "stdout",
     "output_type": "stream",
     "text": [
      "Original list: [4, 8, 2, 10, 15, 18]\n",
      "Copy of list: [4, 8, 2, 10, 15, 18]\n"
     ]
    }
   ],
   "source": [
    "#Approach 4: Using copy() method\n",
    "\n",
    "my_list = [4,8,2,10,15,18]\n",
    "print(\"Original list:\",my_list)\n",
    "my_listCopy = my_list.copy()\n",
    "print(\"Copy of list:\",my_listCopy)"
   ]
  },
  {
   "cell_type": "code",
   "execution_count": 6,
   "id": "5d646ced",
   "metadata": {},
   "outputs": [
    {
     "name": "stdout",
     "output_type": "stream",
     "text": [
      "Original list: [4, 8, 2, 10, 15, 18]\n",
      "Copy of list: [4, 8, 2, 10, 15, 18]\n"
     ]
    }
   ],
   "source": [
    "#Approach 5: Using list comprehension\n",
    "\n",
    "my_list = [4,8,2,10,15,18]\n",
    "print(\"Original list:\",my_list)\n",
    "my_listCopy = [i for i in my_list]\n",
    "print(\"Copy of list:\",my_listCopy)"
   ]
  },
  {
   "cell_type": "code",
   "execution_count": null,
   "id": "e5c7943b",
   "metadata": {},
   "outputs": [],
   "source": []
  }
 ],
 "metadata": {
  "kernelspec": {
   "display_name": "Python 3",
   "language": "python",
   "name": "python3"
  },
  "language_info": {
   "codemirror_mode": {
    "name": "ipython",
    "version": 3
   },
   "file_extension": ".py",
   "mimetype": "text/x-python",
   "name": "python",
   "nbconvert_exporter": "python",
   "pygments_lexer": "ipython3",
   "version": "3.8.8"
  }
 },
 "nbformat": 4,
 "nbformat_minor": 5
}
